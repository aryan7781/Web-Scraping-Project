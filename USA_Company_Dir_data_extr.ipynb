{
  "nbformat": 4,
  "nbformat_minor": 2,
  "metadata": {
    "colab": {
      "name": "USA Company Dir data extr.ipynb",
      "provenance": [],
      "collapsed_sections": []
    },
    "kernelspec": {
      "name": "python3",
      "display_name": "Python 3.8.10 64-bit"
    },
    "language_info": {
      "name": "python",
      "version": "3.8.10",
      "mimetype": "text/x-python",
      "codemirror_mode": {
        "name": "ipython",
        "version": 3
      },
      "pygments_lexer": "ipython3",
      "nbconvert_exporter": "python",
      "file_extension": ".py"
    },
    "accelerator": "TPU",
    "interpreter": {
      "hash": "5d97ad4eda96f4e0dcd5ae4f97368654619500468c6147550d2a1b2a1881f9a5"
    }
  },
  "cells": [
    {
      "cell_type": "code",
      "execution_count": 1,
      "source": [
        "import requests\r\n",
        "from bs4 import BeautifulSoup\r\n",
        "import bs4"
      ],
      "outputs": [],
      "metadata": {
        "id": "G-hBBVqvX5ho"
      }
    },
    {
      "cell_type": "code",
      "execution_count": 2,
      "source": [
        "html_text = requests.get(url= 'https://usacompanydirectory.com/').text\r\n",
        "soup = BeautifulSoup(html_text, 'lxml')"
      ],
      "outputs": [],
      "metadata": {
        "id": "au0HNVg7X-AY"
      }
    },
    {
      "cell_type": "code",
      "execution_count": 3,
      "source": [
        "lev_1 = soup.find_all('div', class_ = \"container\")\r\n",
        "lev_2 = lev_1[2].find('div', class_ = 'row')\r\n",
        "lev_3 = lev_2.find('div', class_ = 'col-xl-9 col-lg-9 col-md-8 col-sm-12 col-xs-12')\r\n",
        "lev_4 = lev_3.find('div', class_ = 'panel panel-primary')\r\n",
        "\r\n",
        "Panel = lev_4.find('div', class_ = 'panel-body')\r\n",
        "Categories = Panel.find_all('div', class_ = 'col-lg-4 col-md-6 col-sm-6 col-xs-12')"
      ],
      "outputs": [],
      "metadata": {
        "id": "bmWf9Tp8YAQs"
      }
    },
    {
      "cell_type": "code",
      "execution_count": 4,
      "source": [
        "import pandas as pd\r\n",
        "ind_cl = ['Category', 'State', 'Town', 'Company', 'Email-ID']\r\n",
        "df = pd.DataFrame(columns=ind_cl)\r\n",
        "df.head()"
      ],
      "outputs": [
        {
          "output_type": "execute_result",
          "data": {
            "text/plain": [
              "Empty DataFrame\n",
              "Columns: [Category, State, Town, Company, Email-ID]\n",
              "Index: []"
            ],
            "text/html": [
              "<div>\n",
              "<style scoped>\n",
              "    .dataframe tbody tr th:only-of-type {\n",
              "        vertical-align: middle;\n",
              "    }\n",
              "\n",
              "    .dataframe tbody tr th {\n",
              "        vertical-align: top;\n",
              "    }\n",
              "\n",
              "    .dataframe thead th {\n",
              "        text-align: right;\n",
              "    }\n",
              "</style>\n",
              "<table border=\"1\" class=\"dataframe\">\n",
              "  <thead>\n",
              "    <tr style=\"text-align: right;\">\n",
              "      <th></th>\n",
              "      <th>Category</th>\n",
              "      <th>State</th>\n",
              "      <th>Town</th>\n",
              "      <th>Company</th>\n",
              "      <th>Email-ID</th>\n",
              "    </tr>\n",
              "  </thead>\n",
              "  <tbody>\n",
              "  </tbody>\n",
              "</table>\n",
              "</div>"
            ]
          },
          "metadata": {},
          "execution_count": 4
        }
      ],
      "metadata": {
        "colab": {
          "base_uri": "https://localhost:8080/",
          "height": 49
        },
        "id": "2uKElbKKYCnk",
        "outputId": "acdad9af-cf25-47a5-88a7-d8e179d9ce0f"
      }
    },
    {
      "cell_type": "code",
      "execution_count": 5,
      "source": [
        "for i in range(1):\r\n",
        "    category = Categories[6]           #Index of Category of extraction\r\n",
        "    cat_p = category.find('p')\r\n",
        "    cat_a = cat_p.find('a')\r\n",
        "    cat_name = cat_a.get('title')\r\n",
        "    link_to_cat = cat_a.get('href')\r\n",
        "    text_cat = requests.get(url = link_to_cat).text\r\n",
        "    soup_cat = BeautifulSoup(text_cat, 'lxml')\r\n",
        "    level_1_cat = soup_cat.find('div', class_ = 'row hidden-xs')\r\n",
        "    Category_columns = level_1_cat.find_all('div', class_ = 'col-spaced col-lg-3 col-md-3 col-sm-3')\r\n",
        "\r\n",
        "    if(len(Category_columns) != 0):\r\n",
        "        for j in range(len(Category_columns)):\r\n",
        "            category_column = Category_columns[j]                   #Index of Columns in a Category(Columns are of States)\r\n",
        "            Media_cats = category_column.find_all('div', class_ = 'media')\r\n",
        "            print()\r\n",
        "            if(len(Media_cats) != 0):\r\n",
        "                for media_cat in Media_cats:\r\n",
        "                    cat_state_a = media_cat.find('a')\r\n",
        "                    cat_state_link = cat_state_a.get('href')\r\n",
        "                    cat_state_name = cat_state_a.text\r\n",
        "\r\n",
        "                    cat_state_text = requests.get(url=cat_state_link).text\r\n",
        "                    cat_state_soup = BeautifulSoup(cat_state_text, 'lxml')\r\n",
        "\r\n",
        "                    cat_state_level_1 = cat_state_soup.find('div', class_ = 'row hidden-xs')\r\n",
        "\r\n",
        "                    if(type(cat_state_level_1) == bs4.element.Tag):                    \r\n",
        "                      Cat_State_Cols = cat_state_level_1.find_all('div', class_ = 'col-spaced col-lg-3 col-md-3 col-sm-3')\r\n",
        "\r\n",
        "                      if(len(Cat_State_Cols) != 0):\r\n",
        "                          for k in range(1):\r\n",
        "                              cat_state_col = Cat_State_Cols[2]                     #Index of Columns in a State in a Category(Columns are of cities)\r\n",
        "                              Cat_State_Col_A_s = cat_state_col.find_all('a')\r\n",
        "\r\n",
        "                              if(len(Cat_State_Col_A_s) != 0):\r\n",
        "                                  for cat_state_col_a in Cat_State_Col_A_s:\r\n",
        "                                      cat_state_town_name = cat_state_col_a.get('title')\r\n",
        "                                      cat_state_town_link = cat_state_col_a.get('href')\r\n",
        "\r\n",
        "                                      cat_state_town_text = requests.get(url=cat_state_town_link).text\r\n",
        "                                      cat_state_town_soup = BeautifulSoup(cat_state_town_text, 'lxml')\r\n",
        "\r\n",
        "                                      cat_state_town_comp_lev_1 = cat_state_town_soup.find('div', class_ = 'col-xl-9 col-lg-9 col-md-8 col-sm-12 col-xs-12')\r\n",
        "                                      Companies = cat_state_town_comp_lev_1.find_all('div', class_ = 'panel panel-default listing_results_result')\r\n",
        "                                      if(len(Companies) != 0):\r\n",
        "                                          for company in Companies:\r\n",
        "                                              company_link_a = company.find('a')\r\n",
        "                                              Company_Name = company_link_a.text\r\n",
        "                                              company_link = company_link_a.get('href')\r\n",
        "\r\n",
        "                                              company_text = requests.get(url = company_link).text\r\n",
        "                                              company_soup = BeautifulSoup(company_text, 'lxml')\r\n",
        "\r\n",
        "                                              company_data_lev_1 = company_soup.find('div', class_ = 'col-xl-9 col-lg-9 col-md-8 col-sm-12 col-xs-12')\r\n",
        "\r\n",
        "                                              if(type(company_data_lev_1) == bs4.element.Tag):\r\n",
        "                                                company_data_lev_2 = company_data_lev_1.find('div', class_ = 'col-sm-4')\r\n",
        "\r\n",
        "                                                if(type(company_data_lev_2) == bs4.element.Tag):\r\n",
        "                                                  company_mail_data = company_data_lev_2.find('a', id = 'email')\r\n",
        "                                                  #company_email = company_mail_data.text\r\n",
        "                                                  if(type(company_mail_data) == bs4.element.Tag):\r\n",
        "                                                      company_email = company_mail_data.text\r\n",
        "                                                  else:\r\n",
        "                                                      company_email = '0'\r\n",
        "                                                  row_to_append = {\r\n",
        "                                                      'Category': (category.find('a').get('title')),\r\n",
        "                                                      'State': cat_state_name,\r\n",
        "                                                      'Town': cat_state_town_name,\r\n",
        "                                                      'Company': Company_Name,\r\n",
        "                                                      'Email-ID': company_email\r\n",
        "                                                  }\r\n",
        "\r\n",
        "                                                  df = df.append(row_to_append, ignore_index=True)\r\n"
      ],
      "outputs": [
        {
          "output_type": "stream",
          "name": "stdout",
          "text": [
            "\n",
            "\n",
            "\n",
            "\n"
          ]
        }
      ],
      "metadata": {
        "id": "Zumg4rk5hzge"
      }
    },
    {
      "cell_type": "code",
      "execution_count": 6,
      "source": [
        "df.head()"
      ],
      "outputs": [
        {
          "output_type": "execute_result",
          "data": {
            "text/plain": [
              "          Category    State     Town  \\\n",
              "0  Beauty Wellness  Alabama   Auburn   \n",
              "1  Beauty Wellness  Alabama   Auburn   \n",
              "2  Beauty Wellness  Alabama  Opelika   \n",
              "3  Beauty Wellness  Alabama  CORDOVA   \n",
              "4  Beauty Wellness  Alabama  Luverne   \n",
              "\n",
              "                                          Company                    Email-ID  \n",
              "0            HairByMika (Hair. Over. Everything.)      wkemp9878@tuskevee.edu  \n",
              "1                                  The Pink Combs      thepinkcombs@gmail.com  \n",
              "2                               Morinda Bioactive            lill5927@att.net  \n",
              "3                              Made By Mommy Inc.       kmtaft@madebymommy.co  \n",
              "4  Melissa Haws Independent Herbalife Distributor  trixie_dixiegirl@yahoo.com  "
            ],
            "text/html": [
              "<div>\n",
              "<style scoped>\n",
              "    .dataframe tbody tr th:only-of-type {\n",
              "        vertical-align: middle;\n",
              "    }\n",
              "\n",
              "    .dataframe tbody tr th {\n",
              "        vertical-align: top;\n",
              "    }\n",
              "\n",
              "    .dataframe thead th {\n",
              "        text-align: right;\n",
              "    }\n",
              "</style>\n",
              "<table border=\"1\" class=\"dataframe\">\n",
              "  <thead>\n",
              "    <tr style=\"text-align: right;\">\n",
              "      <th></th>\n",
              "      <th>Category</th>\n",
              "      <th>State</th>\n",
              "      <th>Town</th>\n",
              "      <th>Company</th>\n",
              "      <th>Email-ID</th>\n",
              "    </tr>\n",
              "  </thead>\n",
              "  <tbody>\n",
              "    <tr>\n",
              "      <th>0</th>\n",
              "      <td>Beauty Wellness</td>\n",
              "      <td>Alabama</td>\n",
              "      <td>Auburn</td>\n",
              "      <td>HairByMika (Hair. Over. Everything.)</td>\n",
              "      <td>wkemp9878@tuskevee.edu</td>\n",
              "    </tr>\n",
              "    <tr>\n",
              "      <th>1</th>\n",
              "      <td>Beauty Wellness</td>\n",
              "      <td>Alabama</td>\n",
              "      <td>Auburn</td>\n",
              "      <td>The Pink Combs</td>\n",
              "      <td>thepinkcombs@gmail.com</td>\n",
              "    </tr>\n",
              "    <tr>\n",
              "      <th>2</th>\n",
              "      <td>Beauty Wellness</td>\n",
              "      <td>Alabama</td>\n",
              "      <td>Opelika</td>\n",
              "      <td>Morinda Bioactive</td>\n",
              "      <td>lill5927@att.net</td>\n",
              "    </tr>\n",
              "    <tr>\n",
              "      <th>3</th>\n",
              "      <td>Beauty Wellness</td>\n",
              "      <td>Alabama</td>\n",
              "      <td>CORDOVA</td>\n",
              "      <td>Made By Mommy Inc.</td>\n",
              "      <td>kmtaft@madebymommy.co</td>\n",
              "    </tr>\n",
              "    <tr>\n",
              "      <th>4</th>\n",
              "      <td>Beauty Wellness</td>\n",
              "      <td>Alabama</td>\n",
              "      <td>Luverne</td>\n",
              "      <td>Melissa Haws Independent Herbalife Distributor</td>\n",
              "      <td>trixie_dixiegirl@yahoo.com</td>\n",
              "    </tr>\n",
              "  </tbody>\n",
              "</table>\n",
              "</div>"
            ]
          },
          "metadata": {},
          "execution_count": 6
        }
      ],
      "metadata": {
        "colab": {
          "base_uri": "https://localhost:8080/",
          "height": 417
        },
        "id": "k0jpU5MKRYiX",
        "outputId": "08f6d677-8302-4a42-d217-f09a195e4847"
      }
    }
  ]
}